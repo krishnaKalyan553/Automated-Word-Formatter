{
 "cells": [
  {
   "cell_type": "code",
   "execution_count": 1,
   "id": "b0808a8a",
   "metadata": {},
   "outputs": [
    {
     "data": {
      "text/plain": [
       "'\\nword length : no of characters in the paragraph\\n\\nword count : no of words in the paragraph\\n\\nlabel : either of heading or not a heading.\\n\\n0 -> meaning not a Heading\\n\\n1 -> Heading\\n\\n'"
      ]
     },
     "execution_count": 1,
     "metadata": {},
     "output_type": "execute_result"
    }
   ],
   "source": [
    "\"\"\"\n",
    "word length : no of characters in the paragraph\n",
    "\n",
    "word count : no of words in the paragraph\n",
    "\n",
    "label : either of heading or not a heading.\n",
    "\n",
    "0 -> meaning not a Heading\n",
    "\n",
    "1 -> Heading\n",
    "\n",
    "\"\"\""
   ]
  },
  {
   "cell_type": "code",
   "execution_count": 2,
   "id": "7221548f",
   "metadata": {},
   "outputs": [],
   "source": [
    "# Required Imports\n",
    "import numpy as np\n",
    "import pandas as pd\n",
    "from sklearn.model_selection import train_test_split\n",
    "from sklearn.ensemble import GradientBoostingClassifier\n",
    "from sklearn.metrics import accuracy_score, confusion_matrix, classification_report,roc_curve, auc, precision_recall_curve\n",
    "import seaborn as sns\n",
    "import matplotlib.pyplot as plt"
   ]
  },
  {
   "cell_type": "code",
   "execution_count": 3,
   "id": "472c7691",
   "metadata": {},
   "outputs": [],
   "source": [
    "import random\n",
    "word_length = []\n",
    "word_count = []\n",
    "label = []\n",
    "for i in range(1000):\n",
    "    word_length.append(random.randint(1,1000))\n",
    "    word_count.append(random.randint(1,30))\n",
    "    label.append(1)\n",
    "\n",
    "    \n",
    "for i in range(1000):\n",
    "    word_length.append(random.randint(1000,10000000))\n",
    "    word_count.append(random.randint(31,1000))\n",
    "    label.append(0)\n",
    "\n",
    "\n",
    "data_set = {\n",
    "    \"word_length\":word_length,\n",
    "    \"word_count\":word_count,\n",
    "    \"label\":label\n",
    "}\n"
   ]
  },
  {
   "cell_type": "markdown",
   "id": "4542666c",
   "metadata": {},
   "source": [
    "# Creating a dataframe\n"
   ]
  },
  {
   "cell_type": "code",
   "execution_count": 4,
   "id": "483fd049",
   "metadata": {},
   "outputs": [],
   "source": [
    "import pandas as pd\n",
    "df = pd.DataFrame(data_set)"
   ]
  },
  {
   "cell_type": "code",
   "execution_count": 5,
   "id": "0bfa1aa8",
   "metadata": {},
   "outputs": [
    {
     "data": {
      "text/html": [
       "<div>\n",
       "<style scoped>\n",
       "    .dataframe tbody tr th:only-of-type {\n",
       "        vertical-align: middle;\n",
       "    }\n",
       "\n",
       "    .dataframe tbody tr th {\n",
       "        vertical-align: top;\n",
       "    }\n",
       "\n",
       "    .dataframe thead th {\n",
       "        text-align: right;\n",
       "    }\n",
       "</style>\n",
       "<table border=\"1\" class=\"dataframe\">\n",
       "  <thead>\n",
       "    <tr style=\"text-align: right;\">\n",
       "      <th></th>\n",
       "      <th>word_length</th>\n",
       "      <th>word_count</th>\n",
       "      <th>label</th>\n",
       "    </tr>\n",
       "  </thead>\n",
       "  <tbody>\n",
       "    <tr>\n",
       "      <th>0</th>\n",
       "      <td>160</td>\n",
       "      <td>7</td>\n",
       "      <td>1</td>\n",
       "    </tr>\n",
       "    <tr>\n",
       "      <th>1</th>\n",
       "      <td>581</td>\n",
       "      <td>15</td>\n",
       "      <td>1</td>\n",
       "    </tr>\n",
       "    <tr>\n",
       "      <th>2</th>\n",
       "      <td>603</td>\n",
       "      <td>21</td>\n",
       "      <td>1</td>\n",
       "    </tr>\n",
       "    <tr>\n",
       "      <th>3</th>\n",
       "      <td>8</td>\n",
       "      <td>13</td>\n",
       "      <td>1</td>\n",
       "    </tr>\n",
       "    <tr>\n",
       "      <th>4</th>\n",
       "      <td>303</td>\n",
       "      <td>21</td>\n",
       "      <td>1</td>\n",
       "    </tr>\n",
       "  </tbody>\n",
       "</table>\n",
       "</div>"
      ],
      "text/plain": [
       "   word_length  word_count  label\n",
       "0          160           7      1\n",
       "1          581          15      1\n",
       "2          603          21      1\n",
       "3            8          13      1\n",
       "4          303          21      1"
      ]
     },
     "execution_count": 5,
     "metadata": {},
     "output_type": "execute_result"
    }
   ],
   "source": [
    "df.head()"
   ]
  },
  {
   "cell_type": "code",
   "execution_count": 6,
   "id": "06de5c8a",
   "metadata": {},
   "outputs": [],
   "source": [
    "x = df.iloc[:,:-1]\n",
    "y = df[\"label\"]"
   ]
  },
  {
   "cell_type": "code",
   "execution_count": 7,
   "id": "403dcb82",
   "metadata": {},
   "outputs": [
    {
     "name": "stdout",
     "output_type": "stream",
     "text": [
      "   word_length  word_count\n",
      "0          160           7\n",
      "1          581          15\n",
      "2          603          21\n",
      "3            8          13\n",
      "4          303          21\n"
     ]
    }
   ],
   "source": [
    "print(x.head())"
   ]
  },
  {
   "cell_type": "code",
   "execution_count": 8,
   "id": "c226262a",
   "metadata": {},
   "outputs": [
    {
     "name": "stdout",
     "output_type": "stream",
     "text": [
      "0    1\n",
      "1    1\n",
      "2    1\n",
      "3    1\n",
      "4    1\n",
      "Name: label, dtype: int64\n"
     ]
    }
   ],
   "source": [
    "print(y.head())"
   ]
  },
  {
   "cell_type": "code",
   "execution_count": 9,
   "id": "c107ef19",
   "metadata": {},
   "outputs": [],
   "source": [
    "x_train, x_test, y_train, y_test = train_test_split(x, y, test_size=0.3, random_state=42,shuffle=True)"
   ]
  },
  {
   "cell_type": "code",
   "execution_count": 10,
   "id": "22c4985a",
   "metadata": {},
   "outputs": [
    {
     "data": {
      "text/html": [
       "<div>\n",
       "<style scoped>\n",
       "    .dataframe tbody tr th:only-of-type {\n",
       "        vertical-align: middle;\n",
       "    }\n",
       "\n",
       "    .dataframe tbody tr th {\n",
       "        vertical-align: top;\n",
       "    }\n",
       "\n",
       "    .dataframe thead th {\n",
       "        text-align: right;\n",
       "    }\n",
       "</style>\n",
       "<table border=\"1\" class=\"dataframe\">\n",
       "  <thead>\n",
       "    <tr style=\"text-align: right;\">\n",
       "      <th></th>\n",
       "      <th>word_length</th>\n",
       "      <th>word_count</th>\n",
       "    </tr>\n",
       "  </thead>\n",
       "  <tbody>\n",
       "    <tr>\n",
       "      <th>1860</th>\n",
       "      <td>4034420</td>\n",
       "      <td>100</td>\n",
       "    </tr>\n",
       "    <tr>\n",
       "      <th>353</th>\n",
       "      <td>494</td>\n",
       "      <td>9</td>\n",
       "    </tr>\n",
       "    <tr>\n",
       "      <th>1333</th>\n",
       "      <td>8259313</td>\n",
       "      <td>493</td>\n",
       "    </tr>\n",
       "    <tr>\n",
       "      <th>905</th>\n",
       "      <td>915</td>\n",
       "      <td>23</td>\n",
       "    </tr>\n",
       "    <tr>\n",
       "      <th>1289</th>\n",
       "      <td>4041957</td>\n",
       "      <td>407</td>\n",
       "    </tr>\n",
       "  </tbody>\n",
       "</table>\n",
       "</div>"
      ],
      "text/plain": [
       "      word_length  word_count\n",
       "1860      4034420         100\n",
       "353           494           9\n",
       "1333      8259313         493\n",
       "905           915          23\n",
       "1289      4041957         407"
      ]
     },
     "execution_count": 10,
     "metadata": {},
     "output_type": "execute_result"
    }
   ],
   "source": [
    "x_test.head()"
   ]
  },
  {
   "cell_type": "code",
   "execution_count": 11,
   "id": "c34411d8",
   "metadata": {},
   "outputs": [
    {
     "data": {
      "text/plain": [
       "1860    0\n",
       "353     1\n",
       "1333    0\n",
       "905     1\n",
       "1289    0\n",
       "Name: label, dtype: int64"
      ]
     },
     "execution_count": 11,
     "metadata": {},
     "output_type": "execute_result"
    }
   ],
   "source": [
    "y_test.head()"
   ]
  },
  {
   "cell_type": "markdown",
   "id": "1b92a110",
   "metadata": {},
   "source": [
    "#### Adding some outlayers to the data "
   ]
  },
  {
   "cell_type": "code",
   "execution_count": 12,
   "id": "9dfc6418",
   "metadata": {},
   "outputs": [
    {
     "name": "stderr",
     "output_type": "stream",
     "text": [
      "C:\\Users\\nysha\\AppData\\Local\\Temp\\ipykernel_11136\\4013286962.py:8: FutureWarning: The frame.append method is deprecated and will be removed from pandas in a future version. Use pandas.concat instead.\n",
      "  x_test = x_test.append({\"word_length\": random.randint(10, 300), \"word_count\": random.randint(10, 20)}, ignore_index=True)\n",
      "C:\\Users\\nysha\\AppData\\Local\\Temp\\ipykernel_11136\\4013286962.py:8: FutureWarning: The frame.append method is deprecated and will be removed from pandas in a future version. Use pandas.concat instead.\n",
      "  x_test = x_test.append({\"word_length\": random.randint(10, 300), \"word_count\": random.randint(10, 20)}, ignore_index=True)\n",
      "C:\\Users\\nysha\\AppData\\Local\\Temp\\ipykernel_11136\\4013286962.py:8: FutureWarning: The frame.append method is deprecated and will be removed from pandas in a future version. Use pandas.concat instead.\n",
      "  x_test = x_test.append({\"word_length\": random.randint(10, 300), \"word_count\": random.randint(10, 20)}, ignore_index=True)\n",
      "C:\\Users\\nysha\\AppData\\Local\\Temp\\ipykernel_11136\\4013286962.py:8: FutureWarning: The frame.append method is deprecated and will be removed from pandas in a future version. Use pandas.concat instead.\n",
      "  x_test = x_test.append({\"word_length\": random.randint(10, 300), \"word_count\": random.randint(10, 20)}, ignore_index=True)\n",
      "C:\\Users\\nysha\\AppData\\Local\\Temp\\ipykernel_11136\\4013286962.py:8: FutureWarning: The frame.append method is deprecated and will be removed from pandas in a future version. Use pandas.concat instead.\n",
      "  x_test = x_test.append({\"word_length\": random.randint(10, 300), \"word_count\": random.randint(10, 20)}, ignore_index=True)\n",
      "C:\\Users\\nysha\\AppData\\Local\\Temp\\ipykernel_11136\\4013286962.py:8: FutureWarning: The frame.append method is deprecated and will be removed from pandas in a future version. Use pandas.concat instead.\n",
      "  x_test = x_test.append({\"word_length\": random.randint(10, 300), \"word_count\": random.randint(10, 20)}, ignore_index=True)\n",
      "C:\\Users\\nysha\\AppData\\Local\\Temp\\ipykernel_11136\\4013286962.py:8: FutureWarning: The frame.append method is deprecated and will be removed from pandas in a future version. Use pandas.concat instead.\n",
      "  x_test = x_test.append({\"word_length\": random.randint(10, 300), \"word_count\": random.randint(10, 20)}, ignore_index=True)\n",
      "C:\\Users\\nysha\\AppData\\Local\\Temp\\ipykernel_11136\\4013286962.py:8: FutureWarning: The frame.append method is deprecated and will be removed from pandas in a future version. Use pandas.concat instead.\n",
      "  x_test = x_test.append({\"word_length\": random.randint(10, 300), \"word_count\": random.randint(10, 20)}, ignore_index=True)\n",
      "C:\\Users\\nysha\\AppData\\Local\\Temp\\ipykernel_11136\\4013286962.py:8: FutureWarning: The frame.append method is deprecated and will be removed from pandas in a future version. Use pandas.concat instead.\n",
      "  x_test = x_test.append({\"word_length\": random.randint(10, 300), \"word_count\": random.randint(10, 20)}, ignore_index=True)\n",
      "C:\\Users\\nysha\\AppData\\Local\\Temp\\ipykernel_11136\\4013286962.py:8: FutureWarning: The frame.append method is deprecated and will be removed from pandas in a future version. Use pandas.concat instead.\n",
      "  x_test = x_test.append({\"word_length\": random.randint(10, 300), \"word_count\": random.randint(10, 20)}, ignore_index=True)\n",
      "C:\\Users\\nysha\\AppData\\Local\\Temp\\ipykernel_11136\\4013286962.py:8: FutureWarning: The frame.append method is deprecated and will be removed from pandas in a future version. Use pandas.concat instead.\n",
      "  x_test = x_test.append({\"word_length\": random.randint(10, 300), \"word_count\": random.randint(10, 20)}, ignore_index=True)\n",
      "C:\\Users\\nysha\\AppData\\Local\\Temp\\ipykernel_11136\\4013286962.py:8: FutureWarning: The frame.append method is deprecated and will be removed from pandas in a future version. Use pandas.concat instead.\n",
      "  x_test = x_test.append({\"word_length\": random.randint(10, 300), \"word_count\": random.randint(10, 20)}, ignore_index=True)\n",
      "C:\\Users\\nysha\\AppData\\Local\\Temp\\ipykernel_11136\\4013286962.py:8: FutureWarning: The frame.append method is deprecated and will be removed from pandas in a future version. Use pandas.concat instead.\n",
      "  x_test = x_test.append({\"word_length\": random.randint(10, 300), \"word_count\": random.randint(10, 20)}, ignore_index=True)\n",
      "C:\\Users\\nysha\\AppData\\Local\\Temp\\ipykernel_11136\\4013286962.py:8: FutureWarning: The frame.append method is deprecated and will be removed from pandas in a future version. Use pandas.concat instead.\n",
      "  x_test = x_test.append({\"word_length\": random.randint(10, 300), \"word_count\": random.randint(10, 20)}, ignore_index=True)\n",
      "C:\\Users\\nysha\\AppData\\Local\\Temp\\ipykernel_11136\\4013286962.py:8: FutureWarning: The frame.append method is deprecated and will be removed from pandas in a future version. Use pandas.concat instead.\n",
      "  x_test = x_test.append({\"word_length\": random.randint(10, 300), \"word_count\": random.randint(10, 20)}, ignore_index=True)\n",
      "C:\\Users\\nysha\\AppData\\Local\\Temp\\ipykernel_11136\\4013286962.py:8: FutureWarning: The frame.append method is deprecated and will be removed from pandas in a future version. Use pandas.concat instead.\n",
      "  x_test = x_test.append({\"word_length\": random.randint(10, 300), \"word_count\": random.randint(10, 20)}, ignore_index=True)\n",
      "C:\\Users\\nysha\\AppData\\Local\\Temp\\ipykernel_11136\\4013286962.py:8: FutureWarning: The frame.append method is deprecated and will be removed from pandas in a future version. Use pandas.concat instead.\n",
      "  x_test = x_test.append({\"word_length\": random.randint(10, 300), \"word_count\": random.randint(10, 20)}, ignore_index=True)\n",
      "C:\\Users\\nysha\\AppData\\Local\\Temp\\ipykernel_11136\\4013286962.py:8: FutureWarning: The frame.append method is deprecated and will be removed from pandas in a future version. Use pandas.concat instead.\n",
      "  x_test = x_test.append({\"word_length\": random.randint(10, 300), \"word_count\": random.randint(10, 20)}, ignore_index=True)\n",
      "C:\\Users\\nysha\\AppData\\Local\\Temp\\ipykernel_11136\\4013286962.py:8: FutureWarning: The frame.append method is deprecated and will be removed from pandas in a future version. Use pandas.concat instead.\n",
      "  x_test = x_test.append({\"word_length\": random.randint(10, 300), \"word_count\": random.randint(10, 20)}, ignore_index=True)\n",
      "C:\\Users\\nysha\\AppData\\Local\\Temp\\ipykernel_11136\\4013286962.py:8: FutureWarning: The frame.append method is deprecated and will be removed from pandas in a future version. Use pandas.concat instead.\n",
      "  x_test = x_test.append({\"word_length\": random.randint(10, 300), \"word_count\": random.randint(10, 20)}, ignore_index=True)\n",
      "C:\\Users\\nysha\\AppData\\Local\\Temp\\ipykernel_11136\\4013286962.py:8: FutureWarning: The frame.append method is deprecated and will be removed from pandas in a future version. Use pandas.concat instead.\n",
      "  x_test = x_test.append({\"word_length\": random.randint(10, 300), \"word_count\": random.randint(10, 20)}, ignore_index=True)\n",
      "C:\\Users\\nysha\\AppData\\Local\\Temp\\ipykernel_11136\\4013286962.py:8: FutureWarning: The frame.append method is deprecated and will be removed from pandas in a future version. Use pandas.concat instead.\n",
      "  x_test = x_test.append({\"word_length\": random.randint(10, 300), \"word_count\": random.randint(10, 20)}, ignore_index=True)\n",
      "C:\\Users\\nysha\\AppData\\Local\\Temp\\ipykernel_11136\\4013286962.py:8: FutureWarning: The frame.append method is deprecated and will be removed from pandas in a future version. Use pandas.concat instead.\n",
      "  x_test = x_test.append({\"word_length\": random.randint(10, 300), \"word_count\": random.randint(10, 20)}, ignore_index=True)\n",
      "C:\\Users\\nysha\\AppData\\Local\\Temp\\ipykernel_11136\\4013286962.py:8: FutureWarning: The frame.append method is deprecated and will be removed from pandas in a future version. Use pandas.concat instead.\n",
      "  x_test = x_test.append({\"word_length\": random.randint(10, 300), \"word_count\": random.randint(10, 20)}, ignore_index=True)\n",
      "C:\\Users\\nysha\\AppData\\Local\\Temp\\ipykernel_11136\\4013286962.py:8: FutureWarning: The frame.append method is deprecated and will be removed from pandas in a future version. Use pandas.concat instead.\n",
      "  x_test = x_test.append({\"word_length\": random.randint(10, 300), \"word_count\": random.randint(10, 20)}, ignore_index=True)\n",
      "C:\\Users\\nysha\\AppData\\Local\\Temp\\ipykernel_11136\\4013286962.py:8: FutureWarning: The frame.append method is deprecated and will be removed from pandas in a future version. Use pandas.concat instead.\n",
      "  x_test = x_test.append({\"word_length\": random.randint(10, 300), \"word_count\": random.randint(10, 20)}, ignore_index=True)\n",
      "C:\\Users\\nysha\\AppData\\Local\\Temp\\ipykernel_11136\\4013286962.py:8: FutureWarning: The frame.append method is deprecated and will be removed from pandas in a future version. Use pandas.concat instead.\n",
      "  x_test = x_test.append({\"word_length\": random.randint(10, 300), \"word_count\": random.randint(10, 20)}, ignore_index=True)\n",
      "C:\\Users\\nysha\\AppData\\Local\\Temp\\ipykernel_11136\\4013286962.py:8: FutureWarning: The frame.append method is deprecated and will be removed from pandas in a future version. Use pandas.concat instead.\n",
      "  x_test = x_test.append({\"word_length\": random.randint(10, 300), \"word_count\": random.randint(10, 20)}, ignore_index=True)\n",
      "C:\\Users\\nysha\\AppData\\Local\\Temp\\ipykernel_11136\\4013286962.py:8: FutureWarning: The frame.append method is deprecated and will be removed from pandas in a future version. Use pandas.concat instead.\n",
      "  x_test = x_test.append({\"word_length\": random.randint(10, 300), \"word_count\": random.randint(10, 20)}, ignore_index=True)\n",
      "C:\\Users\\nysha\\AppData\\Local\\Temp\\ipykernel_11136\\4013286962.py:8: FutureWarning: The frame.append method is deprecated and will be removed from pandas in a future version. Use pandas.concat instead.\n",
      "  x_test = x_test.append({\"word_length\": random.randint(10, 300), \"word_count\": random.randint(10, 20)}, ignore_index=True)\n",
      "C:\\Users\\nysha\\AppData\\Local\\Temp\\ipykernel_11136\\4013286962.py:8: FutureWarning: The frame.append method is deprecated and will be removed from pandas in a future version. Use pandas.concat instead.\n",
      "  x_test = x_test.append({\"word_length\": random.randint(10, 300), \"word_count\": random.randint(10, 20)}, ignore_index=True)\n",
      "C:\\Users\\nysha\\AppData\\Local\\Temp\\ipykernel_11136\\4013286962.py:8: FutureWarning: The frame.append method is deprecated and will be removed from pandas in a future version. Use pandas.concat instead.\n",
      "  x_test = x_test.append({\"word_length\": random.randint(10, 300), \"word_count\": random.randint(10, 20)}, ignore_index=True)\n",
      "C:\\Users\\nysha\\AppData\\Local\\Temp\\ipykernel_11136\\4013286962.py:8: FutureWarning: The frame.append method is deprecated and will be removed from pandas in a future version. Use pandas.concat instead.\n",
      "  x_test = x_test.append({\"word_length\": random.randint(10, 300), \"word_count\": random.randint(10, 20)}, ignore_index=True)\n",
      "C:\\Users\\nysha\\AppData\\Local\\Temp\\ipykernel_11136\\4013286962.py:8: FutureWarning: The frame.append method is deprecated and will be removed from pandas in a future version. Use pandas.concat instead.\n",
      "  x_test = x_test.append({\"word_length\": random.randint(10, 300), \"word_count\": random.randint(10, 20)}, ignore_index=True)\n",
      "C:\\Users\\nysha\\AppData\\Local\\Temp\\ipykernel_11136\\4013286962.py:8: FutureWarning: The frame.append method is deprecated and will be removed from pandas in a future version. Use pandas.concat instead.\n",
      "  x_test = x_test.append({\"word_length\": random.randint(10, 300), \"word_count\": random.randint(10, 20)}, ignore_index=True)\n",
      "C:\\Users\\nysha\\AppData\\Local\\Temp\\ipykernel_11136\\4013286962.py:8: FutureWarning: The frame.append method is deprecated and will be removed from pandas in a future version. Use pandas.concat instead.\n",
      "  x_test = x_test.append({\"word_length\": random.randint(10, 300), \"word_count\": random.randint(10, 20)}, ignore_index=True)\n",
      "C:\\Users\\nysha\\AppData\\Local\\Temp\\ipykernel_11136\\4013286962.py:8: FutureWarning: The frame.append method is deprecated and will be removed from pandas in a future version. Use pandas.concat instead.\n",
      "  x_test = x_test.append({\"word_length\": random.randint(10, 300), \"word_count\": random.randint(10, 20)}, ignore_index=True)\n",
      "C:\\Users\\nysha\\AppData\\Local\\Temp\\ipykernel_11136\\4013286962.py:8: FutureWarning: The frame.append method is deprecated and will be removed from pandas in a future version. Use pandas.concat instead.\n",
      "  x_test = x_test.append({\"word_length\": random.randint(10, 300), \"word_count\": random.randint(10, 20)}, ignore_index=True)\n",
      "C:\\Users\\nysha\\AppData\\Local\\Temp\\ipykernel_11136\\4013286962.py:8: FutureWarning: The frame.append method is deprecated and will be removed from pandas in a future version. Use pandas.concat instead.\n",
      "  x_test = x_test.append({\"word_length\": random.randint(10, 300), \"word_count\": random.randint(10, 20)}, ignore_index=True)\n",
      "C:\\Users\\nysha\\AppData\\Local\\Temp\\ipykernel_11136\\4013286962.py:8: FutureWarning: The frame.append method is deprecated and will be removed from pandas in a future version. Use pandas.concat instead.\n",
      "  x_test = x_test.append({\"word_length\": random.randint(10, 300), \"word_count\": random.randint(10, 20)}, ignore_index=True)\n",
      "C:\\Users\\nysha\\AppData\\Local\\Temp\\ipykernel_11136\\4013286962.py:8: FutureWarning: The frame.append method is deprecated and will be removed from pandas in a future version. Use pandas.concat instead.\n",
      "  x_test = x_test.append({\"word_length\": random.randint(10, 300), \"word_count\": random.randint(10, 20)}, ignore_index=True)\n",
      "C:\\Users\\nysha\\AppData\\Local\\Temp\\ipykernel_11136\\4013286962.py:8: FutureWarning: The frame.append method is deprecated and will be removed from pandas in a future version. Use pandas.concat instead.\n",
      "  x_test = x_test.append({\"word_length\": random.randint(10, 300), \"word_count\": random.randint(10, 20)}, ignore_index=True)\n",
      "C:\\Users\\nysha\\AppData\\Local\\Temp\\ipykernel_11136\\4013286962.py:8: FutureWarning: The frame.append method is deprecated and will be removed from pandas in a future version. Use pandas.concat instead.\n",
      "  x_test = x_test.append({\"word_length\": random.randint(10, 300), \"word_count\": random.randint(10, 20)}, ignore_index=True)\n",
      "C:\\Users\\nysha\\AppData\\Local\\Temp\\ipykernel_11136\\4013286962.py:8: FutureWarning: The frame.append method is deprecated and will be removed from pandas in a future version. Use pandas.concat instead.\n",
      "  x_test = x_test.append({\"word_length\": random.randint(10, 300), \"word_count\": random.randint(10, 20)}, ignore_index=True)\n",
      "C:\\Users\\nysha\\AppData\\Local\\Temp\\ipykernel_11136\\4013286962.py:8: FutureWarning: The frame.append method is deprecated and will be removed from pandas in a future version. Use pandas.concat instead.\n",
      "  x_test = x_test.append({\"word_length\": random.randint(10, 300), \"word_count\": random.randint(10, 20)}, ignore_index=True)\n",
      "C:\\Users\\nysha\\AppData\\Local\\Temp\\ipykernel_11136\\4013286962.py:8: FutureWarning: The frame.append method is deprecated and will be removed from pandas in a future version. Use pandas.concat instead.\n",
      "  x_test = x_test.append({\"word_length\": random.randint(10, 300), \"word_count\": random.randint(10, 20)}, ignore_index=True)\n",
      "C:\\Users\\nysha\\AppData\\Local\\Temp\\ipykernel_11136\\4013286962.py:8: FutureWarning: The frame.append method is deprecated and will be removed from pandas in a future version. Use pandas.concat instead.\n",
      "  x_test = x_test.append({\"word_length\": random.randint(10, 300), \"word_count\": random.randint(10, 20)}, ignore_index=True)\n",
      "C:\\Users\\nysha\\AppData\\Local\\Temp\\ipykernel_11136\\4013286962.py:8: FutureWarning: The frame.append method is deprecated and will be removed from pandas in a future version. Use pandas.concat instead.\n",
      "  x_test = x_test.append({\"word_length\": random.randint(10, 300), \"word_count\": random.randint(10, 20)}, ignore_index=True)\n",
      "C:\\Users\\nysha\\AppData\\Local\\Temp\\ipykernel_11136\\4013286962.py:8: FutureWarning: The frame.append method is deprecated and will be removed from pandas in a future version. Use pandas.concat instead.\n",
      "  x_test = x_test.append({\"word_length\": random.randint(10, 300), \"word_count\": random.randint(10, 20)}, ignore_index=True)\n",
      "C:\\Users\\nysha\\AppData\\Local\\Temp\\ipykernel_11136\\4013286962.py:8: FutureWarning: The frame.append method is deprecated and will be removed from pandas in a future version. Use pandas.concat instead.\n",
      "  x_test = x_test.append({\"word_length\": random.randint(10, 300), \"word_count\": random.randint(10, 20)}, ignore_index=True)\n",
      "C:\\Users\\nysha\\AppData\\Local\\Temp\\ipykernel_11136\\4013286962.py:19: FutureWarning: The frame.append method is deprecated and will be removed from pandas in a future version. Use pandas.concat instead.\n",
      "  x_test = x_test.append({\"word_length\": random.randint(300, 600), \"word_count\": random.randint(50, 150)}, ignore_index=True)\n",
      "C:\\Users\\nysha\\AppData\\Local\\Temp\\ipykernel_11136\\4013286962.py:19: FutureWarning: The frame.append method is deprecated and will be removed from pandas in a future version. Use pandas.concat instead.\n",
      "  x_test = x_test.append({\"word_length\": random.randint(300, 600), \"word_count\": random.randint(50, 150)}, ignore_index=True)\n",
      "C:\\Users\\nysha\\AppData\\Local\\Temp\\ipykernel_11136\\4013286962.py:19: FutureWarning: The frame.append method is deprecated and will be removed from pandas in a future version. Use pandas.concat instead.\n",
      "  x_test = x_test.append({\"word_length\": random.randint(300, 600), \"word_count\": random.randint(50, 150)}, ignore_index=True)\n",
      "C:\\Users\\nysha\\AppData\\Local\\Temp\\ipykernel_11136\\4013286962.py:19: FutureWarning: The frame.append method is deprecated and will be removed from pandas in a future version. Use pandas.concat instead.\n",
      "  x_test = x_test.append({\"word_length\": random.randint(300, 600), \"word_count\": random.randint(50, 150)}, ignore_index=True)\n",
      "C:\\Users\\nysha\\AppData\\Local\\Temp\\ipykernel_11136\\4013286962.py:19: FutureWarning: The frame.append method is deprecated and will be removed from pandas in a future version. Use pandas.concat instead.\n",
      "  x_test = x_test.append({\"word_length\": random.randint(300, 600), \"word_count\": random.randint(50, 150)}, ignore_index=True)\n",
      "C:\\Users\\nysha\\AppData\\Local\\Temp\\ipykernel_11136\\4013286962.py:19: FutureWarning: The frame.append method is deprecated and will be removed from pandas in a future version. Use pandas.concat instead.\n",
      "  x_test = x_test.append({\"word_length\": random.randint(300, 600), \"word_count\": random.randint(50, 150)}, ignore_index=True)\n",
      "C:\\Users\\nysha\\AppData\\Local\\Temp\\ipykernel_11136\\4013286962.py:19: FutureWarning: The frame.append method is deprecated and will be removed from pandas in a future version. Use pandas.concat instead.\n",
      "  x_test = x_test.append({\"word_length\": random.randint(300, 600), \"word_count\": random.randint(50, 150)}, ignore_index=True)\n",
      "C:\\Users\\nysha\\AppData\\Local\\Temp\\ipykernel_11136\\4013286962.py:19: FutureWarning: The frame.append method is deprecated and will be removed from pandas in a future version. Use pandas.concat instead.\n",
      "  x_test = x_test.append({\"word_length\": random.randint(300, 600), \"word_count\": random.randint(50, 150)}, ignore_index=True)\n",
      "C:\\Users\\nysha\\AppData\\Local\\Temp\\ipykernel_11136\\4013286962.py:19: FutureWarning: The frame.append method is deprecated and will be removed from pandas in a future version. Use pandas.concat instead.\n",
      "  x_test = x_test.append({\"word_length\": random.randint(300, 600), \"word_count\": random.randint(50, 150)}, ignore_index=True)\n",
      "C:\\Users\\nysha\\AppData\\Local\\Temp\\ipykernel_11136\\4013286962.py:19: FutureWarning: The frame.append method is deprecated and will be removed from pandas in a future version. Use pandas.concat instead.\n",
      "  x_test = x_test.append({\"word_length\": random.randint(300, 600), \"word_count\": random.randint(50, 150)}, ignore_index=True)\n",
      "C:\\Users\\nysha\\AppData\\Local\\Temp\\ipykernel_11136\\4013286962.py:19: FutureWarning: The frame.append method is deprecated and will be removed from pandas in a future version. Use pandas.concat instead.\n",
      "  x_test = x_test.append({\"word_length\": random.randint(300, 600), \"word_count\": random.randint(50, 150)}, ignore_index=True)\n",
      "C:\\Users\\nysha\\AppData\\Local\\Temp\\ipykernel_11136\\4013286962.py:19: FutureWarning: The frame.append method is deprecated and will be removed from pandas in a future version. Use pandas.concat instead.\n",
      "  x_test = x_test.append({\"word_length\": random.randint(300, 600), \"word_count\": random.randint(50, 150)}, ignore_index=True)\n",
      "C:\\Users\\nysha\\AppData\\Local\\Temp\\ipykernel_11136\\4013286962.py:19: FutureWarning: The frame.append method is deprecated and will be removed from pandas in a future version. Use pandas.concat instead.\n",
      "  x_test = x_test.append({\"word_length\": random.randint(300, 600), \"word_count\": random.randint(50, 150)}, ignore_index=True)\n",
      "C:\\Users\\nysha\\AppData\\Local\\Temp\\ipykernel_11136\\4013286962.py:19: FutureWarning: The frame.append method is deprecated and will be removed from pandas in a future version. Use pandas.concat instead.\n",
      "  x_test = x_test.append({\"word_length\": random.randint(300, 600), \"word_count\": random.randint(50, 150)}, ignore_index=True)\n",
      "C:\\Users\\nysha\\AppData\\Local\\Temp\\ipykernel_11136\\4013286962.py:19: FutureWarning: The frame.append method is deprecated and will be removed from pandas in a future version. Use pandas.concat instead.\n",
      "  x_test = x_test.append({\"word_length\": random.randint(300, 600), \"word_count\": random.randint(50, 150)}, ignore_index=True)\n",
      "C:\\Users\\nysha\\AppData\\Local\\Temp\\ipykernel_11136\\4013286962.py:19: FutureWarning: The frame.append method is deprecated and will be removed from pandas in a future version. Use pandas.concat instead.\n",
      "  x_test = x_test.append({\"word_length\": random.randint(300, 600), \"word_count\": random.randint(50, 150)}, ignore_index=True)\n",
      "C:\\Users\\nysha\\AppData\\Local\\Temp\\ipykernel_11136\\4013286962.py:19: FutureWarning: The frame.append method is deprecated and will be removed from pandas in a future version. Use pandas.concat instead.\n",
      "  x_test = x_test.append({\"word_length\": random.randint(300, 600), \"word_count\": random.randint(50, 150)}, ignore_index=True)\n",
      "C:\\Users\\nysha\\AppData\\Local\\Temp\\ipykernel_11136\\4013286962.py:19: FutureWarning: The frame.append method is deprecated and will be removed from pandas in a future version. Use pandas.concat instead.\n",
      "  x_test = x_test.append({\"word_length\": random.randint(300, 600), \"word_count\": random.randint(50, 150)}, ignore_index=True)\n",
      "C:\\Users\\nysha\\AppData\\Local\\Temp\\ipykernel_11136\\4013286962.py:19: FutureWarning: The frame.append method is deprecated and will be removed from pandas in a future version. Use pandas.concat instead.\n",
      "  x_test = x_test.append({\"word_length\": random.randint(300, 600), \"word_count\": random.randint(50, 150)}, ignore_index=True)\n",
      "C:\\Users\\nysha\\AppData\\Local\\Temp\\ipykernel_11136\\4013286962.py:19: FutureWarning: The frame.append method is deprecated and will be removed from pandas in a future version. Use pandas.concat instead.\n",
      "  x_test = x_test.append({\"word_length\": random.randint(300, 600), \"word_count\": random.randint(50, 150)}, ignore_index=True)\n",
      "C:\\Users\\nysha\\AppData\\Local\\Temp\\ipykernel_11136\\4013286962.py:19: FutureWarning: The frame.append method is deprecated and will be removed from pandas in a future version. Use pandas.concat instead.\n",
      "  x_test = x_test.append({\"word_length\": random.randint(300, 600), \"word_count\": random.randint(50, 150)}, ignore_index=True)\n",
      "C:\\Users\\nysha\\AppData\\Local\\Temp\\ipykernel_11136\\4013286962.py:19: FutureWarning: The frame.append method is deprecated and will be removed from pandas in a future version. Use pandas.concat instead.\n",
      "  x_test = x_test.append({\"word_length\": random.randint(300, 600), \"word_count\": random.randint(50, 150)}, ignore_index=True)\n",
      "C:\\Users\\nysha\\AppData\\Local\\Temp\\ipykernel_11136\\4013286962.py:19: FutureWarning: The frame.append method is deprecated and will be removed from pandas in a future version. Use pandas.concat instead.\n",
      "  x_test = x_test.append({\"word_length\": random.randint(300, 600), \"word_count\": random.randint(50, 150)}, ignore_index=True)\n",
      "C:\\Users\\nysha\\AppData\\Local\\Temp\\ipykernel_11136\\4013286962.py:19: FutureWarning: The frame.append method is deprecated and will be removed from pandas in a future version. Use pandas.concat instead.\n",
      "  x_test = x_test.append({\"word_length\": random.randint(300, 600), \"word_count\": random.randint(50, 150)}, ignore_index=True)\n",
      "C:\\Users\\nysha\\AppData\\Local\\Temp\\ipykernel_11136\\4013286962.py:19: FutureWarning: The frame.append method is deprecated and will be removed from pandas in a future version. Use pandas.concat instead.\n",
      "  x_test = x_test.append({\"word_length\": random.randint(300, 600), \"word_count\": random.randint(50, 150)}, ignore_index=True)\n",
      "C:\\Users\\nysha\\AppData\\Local\\Temp\\ipykernel_11136\\4013286962.py:19: FutureWarning: The frame.append method is deprecated and will be removed from pandas in a future version. Use pandas.concat instead.\n",
      "  x_test = x_test.append({\"word_length\": random.randint(300, 600), \"word_count\": random.randint(50, 150)}, ignore_index=True)\n",
      "C:\\Users\\nysha\\AppData\\Local\\Temp\\ipykernel_11136\\4013286962.py:19: FutureWarning: The frame.append method is deprecated and will be removed from pandas in a future version. Use pandas.concat instead.\n",
      "  x_test = x_test.append({\"word_length\": random.randint(300, 600), \"word_count\": random.randint(50, 150)}, ignore_index=True)\n",
      "C:\\Users\\nysha\\AppData\\Local\\Temp\\ipykernel_11136\\4013286962.py:19: FutureWarning: The frame.append method is deprecated and will be removed from pandas in a future version. Use pandas.concat instead.\n",
      "  x_test = x_test.append({\"word_length\": random.randint(300, 600), \"word_count\": random.randint(50, 150)}, ignore_index=True)\n",
      "C:\\Users\\nysha\\AppData\\Local\\Temp\\ipykernel_11136\\4013286962.py:19: FutureWarning: The frame.append method is deprecated and will be removed from pandas in a future version. Use pandas.concat instead.\n",
      "  x_test = x_test.append({\"word_length\": random.randint(300, 600), \"word_count\": random.randint(50, 150)}, ignore_index=True)\n",
      "C:\\Users\\nysha\\AppData\\Local\\Temp\\ipykernel_11136\\4013286962.py:19: FutureWarning: The frame.append method is deprecated and will be removed from pandas in a future version. Use pandas.concat instead.\n",
      "  x_test = x_test.append({\"word_length\": random.randint(300, 600), \"word_count\": random.randint(50, 150)}, ignore_index=True)\n",
      "C:\\Users\\nysha\\AppData\\Local\\Temp\\ipykernel_11136\\4013286962.py:19: FutureWarning: The frame.append method is deprecated and will be removed from pandas in a future version. Use pandas.concat instead.\n",
      "  x_test = x_test.append({\"word_length\": random.randint(300, 600), \"word_count\": random.randint(50, 150)}, ignore_index=True)\n",
      "C:\\Users\\nysha\\AppData\\Local\\Temp\\ipykernel_11136\\4013286962.py:19: FutureWarning: The frame.append method is deprecated and will be removed from pandas in a future version. Use pandas.concat instead.\n",
      "  x_test = x_test.append({\"word_length\": random.randint(300, 600), \"word_count\": random.randint(50, 150)}, ignore_index=True)\n",
      "C:\\Users\\nysha\\AppData\\Local\\Temp\\ipykernel_11136\\4013286962.py:19: FutureWarning: The frame.append method is deprecated and will be removed from pandas in a future version. Use pandas.concat instead.\n",
      "  x_test = x_test.append({\"word_length\": random.randint(300, 600), \"word_count\": random.randint(50, 150)}, ignore_index=True)\n",
      "C:\\Users\\nysha\\AppData\\Local\\Temp\\ipykernel_11136\\4013286962.py:19: FutureWarning: The frame.append method is deprecated and will be removed from pandas in a future version. Use pandas.concat instead.\n",
      "  x_test = x_test.append({\"word_length\": random.randint(300, 600), \"word_count\": random.randint(50, 150)}, ignore_index=True)\n",
      "C:\\Users\\nysha\\AppData\\Local\\Temp\\ipykernel_11136\\4013286962.py:19: FutureWarning: The frame.append method is deprecated and will be removed from pandas in a future version. Use pandas.concat instead.\n",
      "  x_test = x_test.append({\"word_length\": random.randint(300, 600), \"word_count\": random.randint(50, 150)}, ignore_index=True)\n",
      "C:\\Users\\nysha\\AppData\\Local\\Temp\\ipykernel_11136\\4013286962.py:19: FutureWarning: The frame.append method is deprecated and will be removed from pandas in a future version. Use pandas.concat instead.\n",
      "  x_test = x_test.append({\"word_length\": random.randint(300, 600), \"word_count\": random.randint(50, 150)}, ignore_index=True)\n",
      "C:\\Users\\nysha\\AppData\\Local\\Temp\\ipykernel_11136\\4013286962.py:19: FutureWarning: The frame.append method is deprecated and will be removed from pandas in a future version. Use pandas.concat instead.\n",
      "  x_test = x_test.append({\"word_length\": random.randint(300, 600), \"word_count\": random.randint(50, 150)}, ignore_index=True)\n",
      "C:\\Users\\nysha\\AppData\\Local\\Temp\\ipykernel_11136\\4013286962.py:19: FutureWarning: The frame.append method is deprecated and will be removed from pandas in a future version. Use pandas.concat instead.\n",
      "  x_test = x_test.append({\"word_length\": random.randint(300, 600), \"word_count\": random.randint(50, 150)}, ignore_index=True)\n",
      "C:\\Users\\nysha\\AppData\\Local\\Temp\\ipykernel_11136\\4013286962.py:19: FutureWarning: The frame.append method is deprecated and will be removed from pandas in a future version. Use pandas.concat instead.\n",
      "  x_test = x_test.append({\"word_length\": random.randint(300, 600), \"word_count\": random.randint(50, 150)}, ignore_index=True)\n",
      "C:\\Users\\nysha\\AppData\\Local\\Temp\\ipykernel_11136\\4013286962.py:19: FutureWarning: The frame.append method is deprecated and will be removed from pandas in a future version. Use pandas.concat instead.\n",
      "  x_test = x_test.append({\"word_length\": random.randint(300, 600), \"word_count\": random.randint(50, 150)}, ignore_index=True)\n",
      "C:\\Users\\nysha\\AppData\\Local\\Temp\\ipykernel_11136\\4013286962.py:19: FutureWarning: The frame.append method is deprecated and will be removed from pandas in a future version. Use pandas.concat instead.\n",
      "  x_test = x_test.append({\"word_length\": random.randint(300, 600), \"word_count\": random.randint(50, 150)}, ignore_index=True)\n",
      "C:\\Users\\nysha\\AppData\\Local\\Temp\\ipykernel_11136\\4013286962.py:19: FutureWarning: The frame.append method is deprecated and will be removed from pandas in a future version. Use pandas.concat instead.\n",
      "  x_test = x_test.append({\"word_length\": random.randint(300, 600), \"word_count\": random.randint(50, 150)}, ignore_index=True)\n",
      "C:\\Users\\nysha\\AppData\\Local\\Temp\\ipykernel_11136\\4013286962.py:19: FutureWarning: The frame.append method is deprecated and will be removed from pandas in a future version. Use pandas.concat instead.\n",
      "  x_test = x_test.append({\"word_length\": random.randint(300, 600), \"word_count\": random.randint(50, 150)}, ignore_index=True)\n",
      "C:\\Users\\nysha\\AppData\\Local\\Temp\\ipykernel_11136\\4013286962.py:19: FutureWarning: The frame.append method is deprecated and will be removed from pandas in a future version. Use pandas.concat instead.\n",
      "  x_test = x_test.append({\"word_length\": random.randint(300, 600), \"word_count\": random.randint(50, 150)}, ignore_index=True)\n",
      "C:\\Users\\nysha\\AppData\\Local\\Temp\\ipykernel_11136\\4013286962.py:19: FutureWarning: The frame.append method is deprecated and will be removed from pandas in a future version. Use pandas.concat instead.\n",
      "  x_test = x_test.append({\"word_length\": random.randint(300, 600), \"word_count\": random.randint(50, 150)}, ignore_index=True)\n",
      "C:\\Users\\nysha\\AppData\\Local\\Temp\\ipykernel_11136\\4013286962.py:19: FutureWarning: The frame.append method is deprecated and will be removed from pandas in a future version. Use pandas.concat instead.\n",
      "  x_test = x_test.append({\"word_length\": random.randint(300, 600), \"word_count\": random.randint(50, 150)}, ignore_index=True)\n",
      "C:\\Users\\nysha\\AppData\\Local\\Temp\\ipykernel_11136\\4013286962.py:19: FutureWarning: The frame.append method is deprecated and will be removed from pandas in a future version. Use pandas.concat instead.\n",
      "  x_test = x_test.append({\"word_length\": random.randint(300, 600), \"word_count\": random.randint(50, 150)}, ignore_index=True)\n",
      "C:\\Users\\nysha\\AppData\\Local\\Temp\\ipykernel_11136\\4013286962.py:19: FutureWarning: The frame.append method is deprecated and will be removed from pandas in a future version. Use pandas.concat instead.\n",
      "  x_test = x_test.append({\"word_length\": random.randint(300, 600), \"word_count\": random.randint(50, 150)}, ignore_index=True)\n",
      "C:\\Users\\nysha\\AppData\\Local\\Temp\\ipykernel_11136\\4013286962.py:19: FutureWarning: The frame.append method is deprecated and will be removed from pandas in a future version. Use pandas.concat instead.\n",
      "  x_test = x_test.append({\"word_length\": random.randint(300, 600), \"word_count\": random.randint(50, 150)}, ignore_index=True)\n",
      "C:\\Users\\nysha\\AppData\\Local\\Temp\\ipykernel_11136\\4013286962.py:19: FutureWarning: The frame.append method is deprecated and will be removed from pandas in a future version. Use pandas.concat instead.\n",
      "  x_test = x_test.append({\"word_length\": random.randint(300, 600), \"word_count\": random.randint(50, 150)}, ignore_index=True)\n"
     ]
    }
   ],
   "source": [
    "# y_test = y_test.append(pd.Series([0], index=[len(y_test)]))\n",
    "\n",
    "# x_test.loc[len(x_test)] = [random.randint(10, 300), random.randint(10, 20)]\n",
    "for i in range(50):\n",
    "    y_test = pd.concat([y_test, pd.Series([0])], ignore_index=True)\n",
    "#     y_test = y_test.append(pd.Series([0], index=[len(y_test)]))\n",
    "#     x_test.loc[len(x_test)] = [random.randint(10, 300), random.randint(10, 20)]\n",
    "    x_test = x_test.append({\"word_length\": random.randint(10, 300), \"word_count\": random.randint(10, 20)}, ignore_index=True)\n",
    "#     x_test[\"word_length\"].append(random.randint(10,300))\n",
    "#     x_test[\"word_count\"].append(random.randint(10,20))\n",
    "    \n",
    "\n",
    "for i in range(50):\n",
    "#     y_test = y_test.append(pd.Series([1], index=[len(y_test)]))\n",
    "    y_test = pd.concat([y_test, pd.Series([0])], ignore_index=True)\n",
    "#     x_test[\"word_length\"].append(random.randint(300,600))\n",
    "#     x_test[\"word_count\"].append(random.randint(50,150))\n",
    "#     x_test.loc[len(x_test)] = [random.randint(300, 600), random.randint(50, 150)]\n",
    "    x_test = x_test.append({\"word_length\": random.randint(300, 600), \"word_count\": random.randint(50, 150)}, ignore_index=True)\n",
    "\n"
   ]
  },
  {
   "cell_type": "code",
   "execution_count": 13,
   "id": "f03af062",
   "metadata": {},
   "outputs": [],
   "source": [
    "model =  GradientBoostingClassifier()"
   ]
  },
  {
   "cell_type": "code",
   "execution_count": 14,
   "id": "a6e54785",
   "metadata": {},
   "outputs": [
    {
     "data": {
      "text/html": [
       "<style>#sk-container-id-1 {color: black;background-color: white;}#sk-container-id-1 pre{padding: 0;}#sk-container-id-1 div.sk-toggleable {background-color: white;}#sk-container-id-1 label.sk-toggleable__label {cursor: pointer;display: block;width: 100%;margin-bottom: 0;padding: 0.3em;box-sizing: border-box;text-align: center;}#sk-container-id-1 label.sk-toggleable__label-arrow:before {content: \"▸\";float: left;margin-right: 0.25em;color: #696969;}#sk-container-id-1 label.sk-toggleable__label-arrow:hover:before {color: black;}#sk-container-id-1 div.sk-estimator:hover label.sk-toggleable__label-arrow:before {color: black;}#sk-container-id-1 div.sk-toggleable__content {max-height: 0;max-width: 0;overflow: hidden;text-align: left;background-color: #f0f8ff;}#sk-container-id-1 div.sk-toggleable__content pre {margin: 0.2em;color: black;border-radius: 0.25em;background-color: #f0f8ff;}#sk-container-id-1 input.sk-toggleable__control:checked~div.sk-toggleable__content {max-height: 200px;max-width: 100%;overflow: auto;}#sk-container-id-1 input.sk-toggleable__control:checked~label.sk-toggleable__label-arrow:before {content: \"▾\";}#sk-container-id-1 div.sk-estimator input.sk-toggleable__control:checked~label.sk-toggleable__label {background-color: #d4ebff;}#sk-container-id-1 div.sk-label input.sk-toggleable__control:checked~label.sk-toggleable__label {background-color: #d4ebff;}#sk-container-id-1 input.sk-hidden--visually {border: 0;clip: rect(1px 1px 1px 1px);clip: rect(1px, 1px, 1px, 1px);height: 1px;margin: -1px;overflow: hidden;padding: 0;position: absolute;width: 1px;}#sk-container-id-1 div.sk-estimator {font-family: monospace;background-color: #f0f8ff;border: 1px dotted black;border-radius: 0.25em;box-sizing: border-box;margin-bottom: 0.5em;}#sk-container-id-1 div.sk-estimator:hover {background-color: #d4ebff;}#sk-container-id-1 div.sk-parallel-item::after {content: \"\";width: 100%;border-bottom: 1px solid gray;flex-grow: 1;}#sk-container-id-1 div.sk-label:hover label.sk-toggleable__label {background-color: #d4ebff;}#sk-container-id-1 div.sk-serial::before {content: \"\";position: absolute;border-left: 1px solid gray;box-sizing: border-box;top: 0;bottom: 0;left: 50%;z-index: 0;}#sk-container-id-1 div.sk-serial {display: flex;flex-direction: column;align-items: center;background-color: white;padding-right: 0.2em;padding-left: 0.2em;position: relative;}#sk-container-id-1 div.sk-item {position: relative;z-index: 1;}#sk-container-id-1 div.sk-parallel {display: flex;align-items: stretch;justify-content: center;background-color: white;position: relative;}#sk-container-id-1 div.sk-item::before, #sk-container-id-1 div.sk-parallel-item::before {content: \"\";position: absolute;border-left: 1px solid gray;box-sizing: border-box;top: 0;bottom: 0;left: 50%;z-index: -1;}#sk-container-id-1 div.sk-parallel-item {display: flex;flex-direction: column;z-index: 1;position: relative;background-color: white;}#sk-container-id-1 div.sk-parallel-item:first-child::after {align-self: flex-end;width: 50%;}#sk-container-id-1 div.sk-parallel-item:last-child::after {align-self: flex-start;width: 50%;}#sk-container-id-1 div.sk-parallel-item:only-child::after {width: 0;}#sk-container-id-1 div.sk-dashed-wrapped {border: 1px dashed gray;margin: 0 0.4em 0.5em 0.4em;box-sizing: border-box;padding-bottom: 0.4em;background-color: white;}#sk-container-id-1 div.sk-label label {font-family: monospace;font-weight: bold;display: inline-block;line-height: 1.2em;}#sk-container-id-1 div.sk-label-container {text-align: center;}#sk-container-id-1 div.sk-container {/* jupyter's `normalize.less` sets `[hidden] { display: none; }` but bootstrap.min.css set `[hidden] { display: none !important; }` so we also need the `!important` here to be able to override the default hidden behavior on the sphinx rendered scikit-learn.org. See: https://github.com/scikit-learn/scikit-learn/issues/21755 */display: inline-block !important;position: relative;}#sk-container-id-1 div.sk-text-repr-fallback {display: none;}</style><div id=\"sk-container-id-1\" class=\"sk-top-container\"><div class=\"sk-text-repr-fallback\"><pre>GradientBoostingClassifier()</pre><b>In a Jupyter environment, please rerun this cell to show the HTML representation or trust the notebook. <br />On GitHub, the HTML representation is unable to render, please try loading this page with nbviewer.org.</b></div><div class=\"sk-container\" hidden><div class=\"sk-item\"><div class=\"sk-estimator sk-toggleable\"><input class=\"sk-toggleable__control sk-hidden--visually\" id=\"sk-estimator-id-1\" type=\"checkbox\" checked><label for=\"sk-estimator-id-1\" class=\"sk-toggleable__label sk-toggleable__label-arrow\">GradientBoostingClassifier</label><div class=\"sk-toggleable__content\"><pre>GradientBoostingClassifier()</pre></div></div></div></div></div>"
      ],
      "text/plain": [
       "GradientBoostingClassifier()"
      ]
     },
     "execution_count": 14,
     "metadata": {},
     "output_type": "execute_result"
    }
   ],
   "source": [
    "model.fit(x_train, y_train)"
   ]
  },
  {
   "cell_type": "code",
   "execution_count": 15,
   "id": "c08bf214",
   "metadata": {},
   "outputs": [],
   "source": [
    "y_pred = model.predict(x_test)"
   ]
  },
  {
   "cell_type": "code",
   "execution_count": 16,
   "id": "a3baeba2",
   "metadata": {},
   "outputs": [
    {
     "name": "stdout",
     "output_type": "stream",
     "text": [
      "Accuracy: 0.9285714285714286\n"
     ]
    }
   ],
   "source": [
    "accuracy = accuracy_score(y_test, y_pred)\n",
    "print(\"Accuracy:\", accuracy)"
   ]
  },
  {
   "cell_type": "code",
   "execution_count": 17,
   "id": "b3bd9044",
   "metadata": {},
   "outputs": [
    {
     "name": "stdout",
     "output_type": "stream",
     "text": [
      "Confusion Matrix:\n",
      "[[348  50]\n",
      " [  0 302]]\n"
     ]
    }
   ],
   "source": [
    "conf_matrix = confusion_matrix(y_test, y_pred)\n",
    "print(\"Confusion Matrix:\")\n",
    "print(conf_matrix)"
   ]
  },
  {
   "cell_type": "code",
   "execution_count": 18,
   "id": "d7e13416",
   "metadata": {},
   "outputs": [
    {
     "name": "stdout",
     "output_type": "stream",
     "text": [
      "Classification Report:\n",
      "              precision    recall  f1-score   support\n",
      "\n",
      "           0       1.00      0.87      0.93       398\n",
      "           1       0.86      1.00      0.92       302\n",
      "\n",
      "    accuracy                           0.93       700\n",
      "   macro avg       0.93      0.94      0.93       700\n",
      "weighted avg       0.94      0.93      0.93       700\n",
      "\n"
     ]
    }
   ],
   "source": [
    "# Classification report\n",
    "class_report = classification_report(y_test, y_pred)\n",
    "print(\"Classification Report:\")\n",
    "print(class_report)"
   ]
  },
  {
   "cell_type": "code",
   "execution_count": 19,
   "id": "78188e26",
   "metadata": {},
   "outputs": [
    {
     "data": {
      "image/png": "[encoded data removed]",
      "text/plain": [
       "<Figure size 800x600 with 1 Axes>"
      ]
     },
     "metadata": {},
     "output_type": "display_data"
    }
   ],
   "source": [
    "# Plotting Confusion Matrix\n",
    "plt.figure(figsize=(8, 6))\n",
    "sns.heatmap(conf_matrix, annot=True, fmt=\"d\", cmap=\"Blues\", cbar=False)\n",
    "plt.title(\"Confusion Matrix\")\n",
    "plt.xlabel(\"Predicted\")\n",
    "plt.ylabel(\"Actual\")\n",
    "plt.show()"
   ]
  },
  {
   "cell_type": "code",
   "execution_count": 20,
   "id": "f2fe761a",
   "metadata": {},
   "outputs": [
    {
     "data": {
      "image/png": "[encoded data removed]",
      "text/plain": [
       "<Figure size 800x600 with 1 Axes>"
      ]
     },
     "metadata": {},
     "output_type": "display_data"
    }
   ],
   "source": [
    "# Plotting Precision-Recall Curve\n",
    "precision, recall, _ = precision_recall_curve(y_test, y_pred)\n",
    "\n",
    "plt.figure(figsize=(8, 6))\n",
    "plt.plot(recall, precision, color='blue', lw=2)\n",
    "plt.xlabel('Recall')\n",
    "plt.ylabel('Precision')\n",
    "plt.title('Precision-Recall Curve')\n",
    "plt.show()"
   ]
  },
  {
   "cell_type": "code",
   "execution_count": 21,
   "id": "0e98de29",
   "metadata": {},
   "outputs": [
    {
     "data": {
      "image/png": "[encoded data removed]",
      "text/plain": [
       "<Figure size 800x600 with 1 Axes>"
      ]
     },
     "metadata": {},
     "output_type": "display_data"
    }
   ],
   "source": [
    "# Plotting ROC Curve\n",
    "y_probs = model.predict_proba(x_test)[:, 1]\n",
    "fpr, tpr, _ = roc_curve(y_test, y_probs)\n",
    "roc_auc = auc(fpr, tpr)\n",
    "\n",
    "plt.figure(figsize=(8, 6))\n",
    "plt.plot(fpr, tpr, color='darkorange', lw=2, label='ROC curve (area = %0.2f)' % roc_auc)\n",
    "plt.plot([0, 1], [0, 1], color='navy', lw=2, linestyle='--')\n",
    "plt.xlabel('False Positive Rate')\n",
    "plt.ylabel('True Positive Rate')\n",
    "plt.title('Receiver Operating Characteristic (ROC) Curve')\n",
    "plt.legend(loc=\"lower right\")\n",
    "plt.show()"
   ]
  },
  {
   "cell_type": "markdown",
   "id": "51cf8d33",
   "metadata": {},
   "source": [
    "# Saving the Machine Learning Model"
   ]
  },
  {
   "cell_type": "code",
   "execution_count": 14,
   "id": "a64b2d33",
   "metadata": {},
   "outputs": [
    {
     "ename": "NameError",
     "evalue": "name 'model' is not defined",
     "output_type": "error",
     "traceback": [
      "\u001b[1;31m---------------------------------------------------------------------------\u001b[0m",
      "\u001b[1;31mNameError\u001b[0m                                 Traceback (most recent call last)",
      "Cell \u001b[1;32mIn [14], line 3\u001b[0m\n\u001b[0;32m      1\u001b[0m \u001b[38;5;28;01mimport\u001b[39;00m \u001b[38;5;21;01mpickle\u001b[39;00m\n\u001b[0;32m      2\u001b[0m \u001b[38;5;28;01mwith\u001b[39;00m \u001b[38;5;28mopen\u001b[39m(\u001b[38;5;124m'\u001b[39m\u001b[38;5;124mgradient_boost_model.pkl\u001b[39m\u001b[38;5;124m'\u001b[39m, \u001b[38;5;124m'\u001b[39m\u001b[38;5;124mwb\u001b[39m\u001b[38;5;124m'\u001b[39m) \u001b[38;5;28;01mas\u001b[39;00m f:\n\u001b[1;32m----> 3\u001b[0m     pickle\u001b[38;5;241m.\u001b[39mdump(\u001b[43mmodel\u001b[49m, f)\n",
      "\u001b[1;31mNameError\u001b[0m: name 'model' is not defined"
     ]
    }
   ],
   "source": [
    "import pickle\n",
    "with open('gradient_boost_model.pkl', 'wb') as f:\n",
    "    pickle.dump(model, f)"
   ]
  },
  {
   "cell_type": "code",
   "execution_count": 24,
   "id": "43534e6e",
   "metadata": {},
   "outputs": [],
   "source": [
    "import warnings\n",
    "warnings.simplefilter(action='ignore')"
   ]
  },
  {
   "cell_type": "markdown",
   "id": "19356877",
   "metadata": {},
   "source": [
    "#  Tryout the heading / Non heading classifier 👇 "
   ]
  },
  {
   "cell_type": "code",
   "execution_count": 25,
   "id": "29cd8ca7",
   "metadata": {},
   "outputs": [
    {
     "name": "stdout",
     "output_type": "stream",
     "text": [
      "Press 'e' to exit or give a word to test: Attention Is All You Need\n",
      "Its Heading\n",
      "Press 'e' to exit or give a word to test: The dominant sequence transduction models are based on complex recurrent or convolutional neural networks that include an encoder and a decoder. The best performing models also connect the encoder and decoder through an attention mechanism. We propose a new simple network architecture, the Transformer, based solely on attention mechanisms, dispensing with recurrence and convolutions entirely. Experiments on two machine translation tasks show these models to be superior in quality while being more parallelizable and requiring significantly less time to train. Our model achieves 28.4 BLEU on the WMT 2014 Englishto-German translation task, improving over the existing best results, including ensembles, by over 2 BLEU.\n",
      "Its Not a heading\n",
      "Press 'e' to exit or give a word to test: e\n",
      "Thanks for testing the code\n"
     ]
    }
   ],
   "source": [
    "while True:\n",
    "    inp = input(\"Press 'e' to exit or give a word to test: \")\n",
    "    if inp == 'e':\n",
    "        print(\"Thanks for testing the code\")\n",
    "        break\n",
    "    word_c = len(inp.split(' '))\n",
    "    if int(model.predict([[len(inp), word_c]])) ==1:\n",
    "        print(\"Its Heading\")\n",
    "    else:\n",
    "        print(\"Its Not a heading\")"
   ]
  },
  {
   "cell_type": "code",
   "execution_count": null,
   "id": "8b58ca0b",
   "metadata": {},
   "outputs": [],
   "source": []
  },
  {
   "cell_type": "code",
   "execution_count": null,
   "id": "aeb649b5",
   "metadata": {},
   "outputs": [],
   "source": []
  }
 ],
 "metadata": {
  "kernelspec": {
   "display_name": "Python 3 (ipykernel)",
   "language": "python",
   "name": "python3"
  },
  "language_info": {
   "codemirror_mode": {
    "name": "ipython",
    "version": 3
   },
   "file_extension": ".py",
   "mimetype": "text/x-python",
   "name": "python",
   "nbconvert_exporter": "python",
   "pygments_lexer": "ipython3",
   "version": "3.9.0"
  }
 },
 "nbformat": 4,
 "nbformat_minor": 5
}
